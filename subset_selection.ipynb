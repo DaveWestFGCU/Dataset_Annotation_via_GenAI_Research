{
 "cells": [
  {
   "metadata": {},
   "cell_type": "markdown",
   "source": "## Config",
   "id": "d026d58eadd24f4c"
  },
  {
   "metadata": {
    "ExecuteTime": {
     "end_time": "2025-03-10T15:11:25.197673Z",
     "start_time": "2025-03-10T15:11:25.193812Z"
    }
   },
   "cell_type": "code",
   "source": [
    "dataset_name = 'GoEmotions (Ekman 6)'\n",
    "labels_column = 'labels'    # emotion\n",
    "\n",
    "limit_columns = False\n",
    "remove_others = False\n",
    "\n",
    "sample_size = 400\n",
    "random_seed = 0"
   ],
   "id": "3cbc89b5799e7cf3",
   "outputs": [],
   "execution_count": 1
  },
  {
   "metadata": {},
   "cell_type": "markdown",
   "source": "## Load Dataset",
   "id": "4ff3e6790932a645"
  },
  {
   "metadata": {},
   "cell_type": "code",
   "outputs": [],
   "execution_count": null,
   "source": [
    "import pandas as pd\n",
    "from config_files import dataset_config\n",
    "\n",
    "dataset_metadata = dataset_config.dataset[dataset_name]\n",
    "\n",
    "file_location = f\"./{dataset_metadata['relpath']}\"\n",
    "\n",
    "if dataset_metadata['filetype'] == 'csv':\n",
    "    df_full_dataset = pd.read_csv(file_location)\n",
    "elif dataset_metadata['filetype'] == 'tsv':\n",
    "    df_full_dataset = pd.read_csv(file_location, sep=\"\\t\")\n",
    "\n",
    "df_full_dataset"
   ],
   "id": "60f9c0c1642a91b"
  },
  {
   "metadata": {},
   "cell_type": "code",
   "outputs": [],
   "execution_count": null,
   "source": [
    "df_full_dataset.drop(columns = dataset_metadata['unused_columns'], inplace=True)\n",
    "df_full_dataset.rename(columns = dataset_metadata['remap_columns'], inplace=True)\n",
    "\n",
    "display(df_full_dataset)\n",
    "\n",
    "full_label_count =  pd.Series(df_full_dataset.labels).value_counts()\n",
    "print(full_label_count)"
   ],
   "id": "d0c852ca0428e409"
  },
  {
   "metadata": {},
   "cell_type": "code",
   "outputs": [],
   "execution_count": null,
   "source": [
    "if remove_others:\n",
    "    df_full_dataset = df_full_dataset[df_full_dataset['labels'] != 'others']\n",
    "    display(df_full_dataset)\n",
    "\n",
    "    full_label_count =  pd.Series(df_full_dataset.labels).value_counts()\n",
    "full_label_percentages = full_label_count / full_label_count.sum() * 100\n",
    "print(full_label_percentages)"
   ],
   "id": "f24e510605204581"
  },
  {
   "metadata": {},
   "cell_type": "code",
   "outputs": [],
   "execution_count": null,
   "source": [
    "sample_fraction = (sample_size+1) / df_full_dataset.shape[0]\n",
    "df_subset = df_full_dataset.groupby('labels', group_keys=False).apply(\n",
    "    lambda x: x.sample(frac=sample_fraction, random_state = random_seed)     # Get a random, stratified sample\n",
    ")\n",
    "\n",
    "df_subset = df_subset.sample(frac=1, random_state=random_seed)  # Shuffle rows\n",
    "df_subset\n"
   ],
   "id": "1ba45a3b23998be8"
  },
  {
   "metadata": {},
   "cell_type": "code",
   "outputs": [],
   "execution_count": null,
   "source": [
    "subset_label_count = pd.Series(df_subset.labels).value_counts()\n",
    "print(subset_label_count)\n",
    "subset_label_percentages = subset_label_count / subset_label_count.sum() * 100\n",
    "print(subset_label_percentages)"
   ],
   "id": "a100eaf08866c98f"
  },
  {
   "metadata": {},
   "cell_type": "markdown",
   "source": "## Export",
   "id": "ea6dc088db50005"
  },
  {
   "metadata": {},
   "cell_type": "code",
   "outputs": [],
   "execution_count": null,
   "source": [
    "df_subset['text'].to_csv(f\"datasets/goemotions/ekman_6_single_label/full_subset/goemotions_6_single_poc_unlabeled.csv\", index=True)\n",
    "df_subset.to_csv(f\"datasets/goemotions/ekman_6_single_label/full_subset/goemotions_6_single_poc.csv\", index=True)"
   ],
   "id": "517b1a4b8c5a44de"
  }
 ],
 "metadata": {
  "kernelspec": {
   "display_name": "Python 3",
   "language": "python",
   "name": "python3"
  },
  "language_info": {
   "codemirror_mode": {
    "name": "ipython",
    "version": 2
   },
   "file_extension": ".py",
   "mimetype": "text/x-python",
   "name": "python",
   "nbconvert_exporter": "python",
   "pygments_lexer": "ipython2",
   "version": "2.7.6"
  }
 },
 "nbformat": 4,
 "nbformat_minor": 5
}
