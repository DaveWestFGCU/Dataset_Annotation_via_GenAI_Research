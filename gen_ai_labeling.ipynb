{
 "cells": [
  {
   "metadata": {},
   "cell_type": "markdown",
   "source": "# Config",
   "id": "5334d626f21bc063"
  },
  {
   "metadata": {},
   "cell_type": "code",
   "outputs": [],
   "execution_count": null,
   "source": [
    "import_location = 'ai_labeled/EmoEvents_raw_poc.csv'\n",
    "export_location = 'ai_labeled/EmoEvents_raw_poc.csv'\n",
    "overwrite_previous_labels = False\n",
    "\n",
    "datasets = ['Proof of Concept Subset']\n",
    "ai_models = ['Llama3.1 8B instruct-q8', 'DeepSeek-R1 14B', 'GPT 4o-mini', 'o3-mini']\n",
    "\n",
    "remove_others = True\n",
    "\n",
    "sample_size = 50\n",
    "random_seed = 418   #   I'm a teacup\n",
    "\n",
    "from config_files.dataset_config import dataset as dataset_config\n",
    "from config_files import gen_ai_config"
   ],
   "id": "842329c4fabe53f8"
  },
  {
   "metadata": {},
   "cell_type": "code",
   "outputs": [],
   "execution_count": null,
   "source": [
    "import pandas as pd\n",
    "import os\n",
    "import ollama\n",
    "from ollama import ResponseError\n",
    "from openai import OpenAI"
   ],
   "id": "63ea6ed41efba937"
  },
  {
   "metadata": {},
   "cell_type": "markdown",
   "source": "# Label Generation Functions",
   "id": "dc624534e3d9c55"
  },
  {
   "metadata": {},
   "cell_type": "markdown",
   "source": "### Build Label Prompt",
   "id": "4f7044a9ef6573fd"
  },
  {
   "metadata": {},
   "cell_type": "code",
   "outputs": [],
   "execution_count": null,
   "source": [
    "def build_label_prompt(dataset_id, text, event = None):\n",
    "    from config_files import prompts\n",
    "\n",
    "    if event:\n",
    "        intermediate_prompt = prompts.prompt[dataset_id]['labels w/ context'].replace('<text>', text)\n",
    "        event_context = prompts.prompt[dataset_id]['context'][event]\n",
    "        final_prompt = intermediate_prompt.replace('<context>', event_context)\n",
    "    else:\n",
    "        final_prompt = prompts.prompt[dataset_id]['labels']\n",
    "\n",
    "    return final_prompt"
   ],
   "id": "ade2bbebc254656e"
  },
  {
   "metadata": {},
   "cell_type": "markdown",
   "source": "### Generate AI Label",
   "id": "c0ae1e6e7652a163"
  },
  {
   "metadata": {},
   "cell_type": "code",
   "outputs": [],
   "execution_count": null,
   "source": [
    "def generate_synthetic_label(dataset_details, genAI_details, label_prompt):\n",
    "    if genAI_details[\"platform\"] == \"Ollama\":\n",
    "        response = ollama.chat(\n",
    "            model=genAI_details[\"id\"],\n",
    "            messages=[{\n",
    "                \"role\": \"user\",\n",
    "                \"content\": label_prompt\n",
    "            }]\n",
    "        )\n",
    "\n",
    "        return response[\"message\"][\"content\"]\n",
    "\n",
    "    elif genAI_details[\"platform\"] == \"OpenAI\":\n",
    "        client = OpenAI(api_key=os.environ.get('OPENAI_API_KEY'))\n",
    "\n",
    "        response = client.chat.completions.create(\n",
    "            model=genAI_details[\"id\"],\n",
    "            messages = [{\n",
    "                \"role\": \"user\",\n",
    "                \"content\": label_prompt,\n",
    "            }],\n",
    "            n=dataset_details[\"num_labelers\"]\n",
    "        )\n",
    "\n",
    "        response_text = []\n",
    "        for choice in response.choices:\n",
    "            response_text.append(choice.message.content)\n",
    "\n",
    "        return response_text"
   ],
   "id": "feeb3f067846de42"
  },
  {
   "metadata": {},
   "cell_type": "markdown",
   "source": "### Parse Label Response",
   "id": "55fb63cf08472153"
  },
  {
   "metadata": {},
   "cell_type": "code",
   "outputs": [],
   "execution_count": null,
   "source": [
    "def parse_label_response(response, dataset_details, cot_terminator = None):\n",
    "    if cot_terminator:      #   Remove the reasoning layer text for Chain-of-Thought models\n",
    "        response.find(cot_terminator)\n",
    "        response = response[response.find(cot_terminator):]\n",
    "\n",
    "    for label in dataset_details[\"label_list\"]:\n",
    "        if label.lower() in response.lower():\n",
    "            return label\n",
    "\n",
    "    # Label name not found, look for ID number\n",
    "    for i in range(1, len(dataset_details[\"label_list\"]) + 1):\n",
    "        if str(i) in response:\n",
    "            return dataset_details[\"label_list\"][i-1]\n",
    "\n",
    "    # Label not found\n",
    "    CRED = '\\33[91m'\n",
    "    CEND = '\\33[0m'\n",
    "    print(f\"{CRED}NO LABEL FOUND:{CEND} {response}\")\n",
    "    return None"
   ],
   "id": "cdc5b43bc5c93439"
  },
  {
   "metadata": {},
   "cell_type": "markdown",
   "source": "### Label Record",
   "id": "65c3cbaba806cd7b"
  },
  {
   "metadata": {},
   "cell_type": "code",
   "outputs": [],
   "execution_count": null,
   "source": [
    "def get_label(dataset_details, gen_ai_details, text, event=None):\n",
    "    label_prompt = build_label_prompt(dataset_details['id'], text, event)\n",
    "\n",
    "    labels = []\n",
    "    responses = []\n",
    "    print(\"Labels: \", end=\"\")\n",
    "    if gen_ai_details['platform'] == \"Ollama\":\n",
    "\n",
    "        for i in range(dataset_details['num_labelers']):\n",
    "            label_response = generate_synthetic_label(dataset_details, gen_ai_details, label_prompt)\n",
    "            responses.insert(len(responses), label_response)\n",
    "            labels.append(parse_label_response(label_response, dataset_details, gen_ai_details['terminator']))\n",
    "\n",
    "            if i > 0:\n",
    "                print(\", \", end=\"\")\n",
    "            print(f\"{labels[i]}\", end=\"\")\n",
    "\n",
    "    elif gen_ai_details['platform'] == \"OpenAI\":\n",
    "        responses = generate_synthetic_label(dataset_details, gen_ai_details, label_prompt)\n",
    "        for i, response in enumerate(responses):\n",
    "            labels.append(parse_label_response(response, dataset_details))\n",
    "\n",
    "            if i > 0:\n",
    "                print(\", \", end=\"\")\n",
    "            print(f\"{labels[i]}\", end=\"\")\n",
    "\n",
    "    consensus_label = None\n",
    "\n",
    "    if dataset_details[\"label_format\"] == \"single\":\n",
    "        # Single label dataset\n",
    "        for potential_label in dataset_details[\"label_list\"]:\n",
    "            if labels.count(potential_label) >= dataset_details[\"num_consensus\"]:\n",
    "                consensus_label = potential_label\n",
    "                print(f\"\\n\\tConsensus: {consensus_label}\")\n",
    "\n",
    "    elif dataset_details[\"label_format\"] == \"multi\":\n",
    "        # To be implemented if used with any multilabel datasets\n",
    "        pass\n",
    "\n",
    "    return consensus_label, labels, responses"
   ],
   "id": "54d1f1aa83a4a12e"
  },
  {
   "metadata": {},
   "cell_type": "markdown",
   "source": "# Main Loop",
   "id": "c43ee0f393f16bed"
  },
  {
   "metadata": {},
   "cell_type": "code",
   "outputs": [],
   "execution_count": null,
   "source": [
    "for dataset in datasets:\n",
    "    dataset_details = dataset_config[dataset]               #   Get dataset info\n",
    "    df_dataset = pd.read_csv(import_location)    #  Load dataset\n",
    "\n",
    "    for ai_model in ai_models:\n",
    "        ai_details = gen_ai_config.model[ai_model]                          #   Get model info\n",
    "\n",
    "        if overwrite_previous_labels is False and ai_details['id'] in df_dataset.columns:\n",
    "            continue\n",
    "\n",
    "        df_dataset.insert(len(df_dataset.columns), ai_details['id'], '')    #   Create a new column or clear old data for the AI generated labels\n",
    "\n",
    "        os.makedirs(f'./datasets/subset/{ai_model}', exist_ok=True)\n",
    "        for index, row in df_dataset.iterrows():\n",
    "            successful = False\n",
    "            with open(f'./datasets/subset/{ai_model}/{dataset_details['id']}_{index}.txt', 'w', encoding=\"utf-8\") as file:\n",
    "                while not successful:\n",
    "                    try:\n",
    "                        if 'event' in df_dataset.columns:\n",
    "                            label, labels, responses = get_label(dataset_details, ai_details, row.text, row.event)\n",
    "                        else:\n",
    "                            label, labels, responses = get_label(dataset_details, ai_details, row.text)\n",
    "\n",
    "                    except ResponseError:  #   Recover from a CUDA illegal memory access error\n",
    "                        from time import sleep\n",
    "                        sleep(5)\n",
    "\n",
    "                    else:\n",
    "                        df_dataset.at[index, ai_details['id']] = label\n",
    "                        for line in responses:\n",
    "                            file.write(f\"{line}\\n\")\n",
    "                        successful = True\n",
    "\n",
    "        display(df_dataset)\n"
   ],
   "id": "6ec01de51bd1673e"
  },
  {
   "metadata": {},
   "cell_type": "markdown",
   "source": "# Testing",
   "id": "f8d347ec37718c0f"
  },
  {
   "metadata": {},
   "cell_type": "markdown",
   "source": [
    "for dataset in datasets:\n",
    "    dataset_details = dataset_config[dataset]               #   Get dataset info\n",
    "    df_dataset = pd.read_csv(dataset_details['relpath'])    #  Load dataset\n",
    "\n",
    "    for ai_model in ['DeepSeek-R1 14B']:\n",
    "        ai_details = gen_ai_config.model[ai_model]                          #   Get model info\n",
    "        df_dataset.insert(len(df_dataset.columns), ai_details['id'], '')    #   Create a new column or clear old data for the AI generated labels\n",
    "        for row in df_dataset.itertuples():\n",
    "            print(get_label(dataset_details, ai_details, row.text, row.event)[1])\n",
    "        #if 'event' in df_dataset.columns:\n",
    "        #    df_dataset[ai_details['id']] = df_dataset.apply(lambda row: get_label(dataset_details, ai_details, row.text, row.event)[1], axis=1)\n",
    "        #else:\n",
    "        #    df_dataset[ai_details['id']] = df_dataset.apply(lambda row: get_label(dataset_details, ai_details, row['text'])[1])\n",
    "#\n",
    "\n"
   ],
   "id": "72fe550bfa10591b"
  },
  {
   "metadata": {},
   "cell_type": "code",
   "outputs": [],
   "execution_count": null,
   "source": "df_dataset.to_csv(export_location, index_label=False)",
   "id": "f014cd150bdc7045"
  }
 ],
 "metadata": {
  "kernelspec": {
   "display_name": "Python 3",
   "language": "python",
   "name": "python3"
  },
  "language_info": {
   "codemirror_mode": {
    "name": "ipython",
    "version": 2
   },
   "file_extension": ".py",
   "mimetype": "text/x-python",
   "name": "python",
   "nbconvert_exporter": "python",
   "pygments_lexer": "ipython2",
   "version": "2.7.6"
  }
 },
 "nbformat": 4,
 "nbformat_minor": 5
}
